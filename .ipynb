{
 "cells": [
  {
   "cell_type": "markdown",
   "metadata": {},
   "source": [
    "**Workshop home page: https://jjyh.github.io/2021-10-26-usgs-online/**  \n",
    "\n",
    "**Collaborative Notes: Etherpad link to be added **\n",
    "\n",
    "-----------------------------\n",
    "\n",
    "\n",
    "## How to check if the pre-workshop installations were completed? (in Windows:)\n",
    "\n",
    "### Git \n",
    "\n",
    "click start menu and look for \"Git\"; \"Git Bash\" should be within\n",
    "![](img\\swc-GitSMChk.png)\n",
    "  \n",
    "or  \n",
    "Right-click anywhere (usually where you want to run shell, to save changing directory location) in File Explorer or desktop and select \"Git Bash Here\"\n",
    "  \n",
    "![](img\\swc-GitRCChk.png)\n",
    "Bash shell running:  \n",
    "\n",
    "![](img\\swc-GitChk.png)\n",
    "\n",
    "### Python\n",
    "Per 2:30 of the video from the carpentries, you can check that Python is present on the computer by typing below after the $ sign (confirm that the version is 3.x not 2.x)\n",
    "\n",
    "```\n",
    "$ python --version\n",
    "```\n",
    "\n",
    "For the workshop, also check that Anaconda is present, it should be on your start menu.  Jupyter Notebook, installed as part of Anaconda, is needed for the code-along (though if you have another IDE you are already familiar with for coding Python, it should be alright to use that instead) and integrated with the note-taking Markdown format for use as a sort of lab notebook.  \n",
    "We will spend the first portion of the workshop starting up + orientating in Jupyter. \n",
    "\n",
    "![](img\\swc-PyAnaconda.gif)\n",
    "\n",
    "\n"
   ]
  },
  {
   "cell_type": "code",
   "execution_count": null,
   "metadata": {},
   "outputs": [],
   "source": []
  }
 ],
 "metadata": {
  "kernelspec": {
   "display_name": "Python 3",
   "language": "python",
   "name": "python3"
  },
  "language_info": {
   "codemirror_mode": {
    "name": "ipython",
    "version": 3
   },
   "file_extension": ".py",
   "mimetype": "text/x-python",
   "name": "python",
   "nbconvert_exporter": "python",
   "pygments_lexer": "ipython3",
   "version": "3.7.6"
  }
 },
 "nbformat": 4,
 "nbformat_minor": 4
}
